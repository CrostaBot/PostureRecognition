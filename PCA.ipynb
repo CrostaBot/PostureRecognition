{
 "cells": [
  {
   "cell_type": "code",
   "execution_count": null,
   "metadata": {},
   "outputs": [],
   "source": [
    "from pathlib import Path\n",
    "import pandas as pd\n",
    "import numpy as np\n",
    "from numpy import linalg as la\n",
    "import sys\n",
    "import matplotlib.pyplot as plt\n",
    "import seaborn as sas"
   ]
  },
  {
   "cell_type": "code",
   "execution_count": null,
   "metadata": {},
   "outputs": [],
   "source": [
    "data_folder = Path(\"dataset/experiment-i/S1/\")\n",
    "\n",
    "file_name = data_folder / \"1.txt\"\n",
    "df = pd.read_csv(file_name, sep=\"\\t\", header=None)\n",
    "#la stessa posizione viene misurata 82 volte DC\n",
    "#la prima non conta un cazzo(è vuota), anche l'ultima colonna è vuota dc\n",
    "#dobbiamo fare la PCA tra le 82 misurazioni diverse boia\n",
    "#e poi cercare di tenere quella più carina dc\n",
    "df.drop(columns=[2048], inplace = True) #tolgo colonna\n",
    "df.drop(0, inplace = True) #tolgo riga\n",
    "df.drop(1, inplace = True) #tolgo riga\n",
    "df"
   ]
  },
  {
   "cell_type": "code",
   "execution_count": null,
   "metadata": {},
   "outputs": [],
   "source": [
    "array = df.to_numpy()\n",
    "avg = array.mean()\n",
    "array = array - avg\n",
    "\n",
    "CX = np.cov(array)\n",
    "w,v = la.eig(CX) \n",
    "\n",
    "CY =  np.diag(np.round(np.real(w),2))\n",
    "print(\"Trace of the original data matrix: \" , np.round(CX.trace(),2))\n",
    "print(\"Trace of the data matrix after the changes of base: \", np.round(CY.trace(),2), \"\\n\")\n",
    "\n",
    "v.shape\n",
    "\n",
    "tr = 0;\n",
    "for i in range(0,len(CY)):\n",
    "    tr = tr + CY[i,i]\n",
    "    print(\"Fraction of the total variability keeping only the first principal component: \", np.round(100*tr/CY.trace()),\"%\")\n",
    "\n",
    "\n",
    "\n",
    "P = v[:,0:1]\n",
    "P.shape\n",
    "\n",
    "array_final = P.T.dot(array)\n",
    "array_final.shape\n",
    "\n"
   ]
  },
  {
   "cell_type": "code",
   "execution_count": null,
   "metadata": {},
   "outputs": [],
   "source": [
    "array_final[0] = array_final[0] + avg\n",
    "array_final[0][array_final[0] < 0] = 0\n",
    "\n",
    "\n",
    "file = open(\"prova1.txt\", \"w\") \n",
    "\n",
    "for i in range(0,len(array_final[0])):\n",
    "    l = i + 1;\n",
    "    if(l%32 != 0):\n",
    "        file.write(str(int(array_final[0][i])) + \"\\t\") \n",
    "    else:\n",
    "        file.write(\"\\n\") \n",
    "        \n",
    "        \n",
    "file.close() "
   ]
  },
  {
   "cell_type": "code",
   "execution_count": null,
   "metadata": {},
   "outputs": [],
   "source": [
    "sas.heatmap(array_final[0].reshape(64,32))"
   ]
  },
  {
   "cell_type": "code",
   "execution_count": null,
   "metadata": {},
   "outputs": [],
   "source": [
    "sas.heatmap(array[1].reshape(64,32))"
   ]
  },
  {
   "cell_type": "code",
   "execution_count": null,
   "metadata": {},
   "outputs": [],
   "source": []
  }
 ],
 "metadata": {
  "kernelspec": {
   "display_name": "Python 3",
   "language": "python",
   "name": "python3"
  },
  "language_info": {
   "codemirror_mode": {
    "name": "ipython",
    "version": 3
   },
   "file_extension": ".py",
   "mimetype": "text/x-python",
   "name": "python",
   "nbconvert_exporter": "python",
   "pygments_lexer": "ipython3",
   "version": "3.6.9"
  }
 },
 "nbformat": 4,
 "nbformat_minor": 2
}
