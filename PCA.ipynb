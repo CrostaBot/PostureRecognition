{
 "cells": [
  {
   "cell_type": "code",
   "execution_count": 141,
   "metadata": {},
   "outputs": [],
   "source": [
    "from pathlib import Path\n",
    "import pandas as pd\n",
    "import numpy as np\n",
    "from numpy import linalg as la\n",
    "import sys\n",
    "import matplotlib.pyplot as plt\n",
    "import seaborn as sas"
   ]
  },
  {
   "cell_type": "code",
   "execution_count": 198,
   "metadata": {
    "scrolled": false
   },
   "outputs": [
    {
     "data": {
      "text/html": [
       "<div>\n",
       "<style scoped>\n",
       "    .dataframe tbody tr th:only-of-type {\n",
       "        vertical-align: middle;\n",
       "    }\n",
       "\n",
       "    .dataframe tbody tr th {\n",
       "        vertical-align: top;\n",
       "    }\n",
       "\n",
       "    .dataframe thead th {\n",
       "        text-align: right;\n",
       "    }\n",
       "</style>\n",
       "<table border=\"1\" class=\"dataframe\">\n",
       "  <thead>\n",
       "    <tr style=\"text-align: right;\">\n",
       "      <th></th>\n",
       "      <th>0</th>\n",
       "      <th>1</th>\n",
       "      <th>2</th>\n",
       "      <th>3</th>\n",
       "      <th>4</th>\n",
       "      <th>5</th>\n",
       "      <th>6</th>\n",
       "      <th>7</th>\n",
       "      <th>8</th>\n",
       "      <th>9</th>\n",
       "      <th>...</th>\n",
       "      <th>2038</th>\n",
       "      <th>2039</th>\n",
       "      <th>2040</th>\n",
       "      <th>2041</th>\n",
       "      <th>2042</th>\n",
       "      <th>2043</th>\n",
       "      <th>2044</th>\n",
       "      <th>2045</th>\n",
       "      <th>2046</th>\n",
       "      <th>2047</th>\n",
       "    </tr>\n",
       "  </thead>\n",
       "  <tbody>\n",
       "    <tr>\n",
       "      <td>3</td>\n",
       "      <td>0</td>\n",
       "      <td>0</td>\n",
       "      <td>0</td>\n",
       "      <td>0</td>\n",
       "      <td>1</td>\n",
       "      <td>0</td>\n",
       "      <td>5</td>\n",
       "      <td>4</td>\n",
       "      <td>5</td>\n",
       "      <td>2</td>\n",
       "      <td>...</td>\n",
       "      <td>1</td>\n",
       "      <td>0</td>\n",
       "      <td>0</td>\n",
       "      <td>0</td>\n",
       "      <td>0</td>\n",
       "      <td>0</td>\n",
       "      <td>0</td>\n",
       "      <td>0</td>\n",
       "      <td>0</td>\n",
       "      <td>0</td>\n",
       "    </tr>\n",
       "    <tr>\n",
       "      <td>4</td>\n",
       "      <td>0</td>\n",
       "      <td>1</td>\n",
       "      <td>0</td>\n",
       "      <td>0</td>\n",
       "      <td>1</td>\n",
       "      <td>0</td>\n",
       "      <td>6</td>\n",
       "      <td>4</td>\n",
       "      <td>5</td>\n",
       "      <td>1</td>\n",
       "      <td>...</td>\n",
       "      <td>1</td>\n",
       "      <td>0</td>\n",
       "      <td>0</td>\n",
       "      <td>0</td>\n",
       "      <td>0</td>\n",
       "      <td>0</td>\n",
       "      <td>0</td>\n",
       "      <td>0</td>\n",
       "      <td>0</td>\n",
       "      <td>0</td>\n",
       "    </tr>\n",
       "    <tr>\n",
       "      <td>5</td>\n",
       "      <td>0</td>\n",
       "      <td>0</td>\n",
       "      <td>0</td>\n",
       "      <td>0</td>\n",
       "      <td>1</td>\n",
       "      <td>0</td>\n",
       "      <td>5</td>\n",
       "      <td>4</td>\n",
       "      <td>4</td>\n",
       "      <td>1</td>\n",
       "      <td>...</td>\n",
       "      <td>3</td>\n",
       "      <td>0</td>\n",
       "      <td>0</td>\n",
       "      <td>0</td>\n",
       "      <td>0</td>\n",
       "      <td>0</td>\n",
       "      <td>0</td>\n",
       "      <td>0</td>\n",
       "      <td>0</td>\n",
       "      <td>0</td>\n",
       "    </tr>\n",
       "    <tr>\n",
       "      <td>6</td>\n",
       "      <td>0</td>\n",
       "      <td>0</td>\n",
       "      <td>0</td>\n",
       "      <td>0</td>\n",
       "      <td>1</td>\n",
       "      <td>0</td>\n",
       "      <td>5</td>\n",
       "      <td>4</td>\n",
       "      <td>4</td>\n",
       "      <td>1</td>\n",
       "      <td>...</td>\n",
       "      <td>1</td>\n",
       "      <td>0</td>\n",
       "      <td>0</td>\n",
       "      <td>0</td>\n",
       "      <td>0</td>\n",
       "      <td>0</td>\n",
       "      <td>0</td>\n",
       "      <td>0</td>\n",
       "      <td>0</td>\n",
       "      <td>0</td>\n",
       "    </tr>\n",
       "    <tr>\n",
       "      <td>7</td>\n",
       "      <td>0</td>\n",
       "      <td>0</td>\n",
       "      <td>0</td>\n",
       "      <td>0</td>\n",
       "      <td>0</td>\n",
       "      <td>0</td>\n",
       "      <td>6</td>\n",
       "      <td>4</td>\n",
       "      <td>4</td>\n",
       "      <td>1</td>\n",
       "      <td>...</td>\n",
       "      <td>2</td>\n",
       "      <td>0</td>\n",
       "      <td>0</td>\n",
       "      <td>0</td>\n",
       "      <td>0</td>\n",
       "      <td>0</td>\n",
       "      <td>0</td>\n",
       "      <td>0</td>\n",
       "      <td>0</td>\n",
       "      <td>0</td>\n",
       "    </tr>\n",
       "    <tr>\n",
       "      <td>...</td>\n",
       "      <td>...</td>\n",
       "      <td>...</td>\n",
       "      <td>...</td>\n",
       "      <td>...</td>\n",
       "      <td>...</td>\n",
       "      <td>...</td>\n",
       "      <td>...</td>\n",
       "      <td>...</td>\n",
       "      <td>...</td>\n",
       "      <td>...</td>\n",
       "      <td>...</td>\n",
       "      <td>...</td>\n",
       "      <td>...</td>\n",
       "      <td>...</td>\n",
       "      <td>...</td>\n",
       "      <td>...</td>\n",
       "      <td>...</td>\n",
       "      <td>...</td>\n",
       "      <td>...</td>\n",
       "      <td>...</td>\n",
       "      <td>...</td>\n",
       "    </tr>\n",
       "    <tr>\n",
       "      <td>77</td>\n",
       "      <td>0</td>\n",
       "      <td>0</td>\n",
       "      <td>0</td>\n",
       "      <td>0</td>\n",
       "      <td>0</td>\n",
       "      <td>0</td>\n",
       "      <td>3</td>\n",
       "      <td>0</td>\n",
       "      <td>3</td>\n",
       "      <td>0</td>\n",
       "      <td>...</td>\n",
       "      <td>3</td>\n",
       "      <td>0</td>\n",
       "      <td>0</td>\n",
       "      <td>0</td>\n",
       "      <td>0</td>\n",
       "      <td>0</td>\n",
       "      <td>0</td>\n",
       "      <td>0</td>\n",
       "      <td>0</td>\n",
       "      <td>0</td>\n",
       "    </tr>\n",
       "    <tr>\n",
       "      <td>78</td>\n",
       "      <td>0</td>\n",
       "      <td>0</td>\n",
       "      <td>0</td>\n",
       "      <td>0</td>\n",
       "      <td>0</td>\n",
       "      <td>0</td>\n",
       "      <td>3</td>\n",
       "      <td>0</td>\n",
       "      <td>2</td>\n",
       "      <td>0</td>\n",
       "      <td>...</td>\n",
       "      <td>1</td>\n",
       "      <td>0</td>\n",
       "      <td>0</td>\n",
       "      <td>0</td>\n",
       "      <td>0</td>\n",
       "      <td>0</td>\n",
       "      <td>0</td>\n",
       "      <td>0</td>\n",
       "      <td>0</td>\n",
       "      <td>0</td>\n",
       "    </tr>\n",
       "    <tr>\n",
       "      <td>79</td>\n",
       "      <td>0</td>\n",
       "      <td>0</td>\n",
       "      <td>0</td>\n",
       "      <td>0</td>\n",
       "      <td>0</td>\n",
       "      <td>0</td>\n",
       "      <td>1</td>\n",
       "      <td>0</td>\n",
       "      <td>2</td>\n",
       "      <td>0</td>\n",
       "      <td>...</td>\n",
       "      <td>2</td>\n",
       "      <td>0</td>\n",
       "      <td>0</td>\n",
       "      <td>0</td>\n",
       "      <td>0</td>\n",
       "      <td>0</td>\n",
       "      <td>0</td>\n",
       "      <td>0</td>\n",
       "      <td>0</td>\n",
       "      <td>0</td>\n",
       "    </tr>\n",
       "    <tr>\n",
       "      <td>80</td>\n",
       "      <td>0</td>\n",
       "      <td>0</td>\n",
       "      <td>0</td>\n",
       "      <td>0</td>\n",
       "      <td>0</td>\n",
       "      <td>0</td>\n",
       "      <td>1</td>\n",
       "      <td>0</td>\n",
       "      <td>3</td>\n",
       "      <td>0</td>\n",
       "      <td>...</td>\n",
       "      <td>2</td>\n",
       "      <td>0</td>\n",
       "      <td>0</td>\n",
       "      <td>0</td>\n",
       "      <td>0</td>\n",
       "      <td>0</td>\n",
       "      <td>0</td>\n",
       "      <td>0</td>\n",
       "      <td>0</td>\n",
       "      <td>0</td>\n",
       "    </tr>\n",
       "    <tr>\n",
       "      <td>81</td>\n",
       "      <td>0</td>\n",
       "      <td>0</td>\n",
       "      <td>0</td>\n",
       "      <td>0</td>\n",
       "      <td>0</td>\n",
       "      <td>0</td>\n",
       "      <td>3</td>\n",
       "      <td>0</td>\n",
       "      <td>3</td>\n",
       "      <td>0</td>\n",
       "      <td>...</td>\n",
       "      <td>3</td>\n",
       "      <td>0</td>\n",
       "      <td>0</td>\n",
       "      <td>0</td>\n",
       "      <td>0</td>\n",
       "      <td>0</td>\n",
       "      <td>0</td>\n",
       "      <td>0</td>\n",
       "      <td>0</td>\n",
       "      <td>0</td>\n",
       "    </tr>\n",
       "  </tbody>\n",
       "</table>\n",
       "<p>79 rows × 2048 columns</p>\n",
       "</div>"
      ],
      "text/plain": [
       "    0     1     2     3     4     5     6     7     8     9     ...  2038  \\\n",
       "3      0     0     0     0     1     0     5     4     5     2  ...     1   \n",
       "4      0     1     0     0     1     0     6     4     5     1  ...     1   \n",
       "5      0     0     0     0     1     0     5     4     4     1  ...     3   \n",
       "6      0     0     0     0     1     0     5     4     4     1  ...     1   \n",
       "7      0     0     0     0     0     0     6     4     4     1  ...     2   \n",
       "..   ...   ...   ...   ...   ...   ...   ...   ...   ...   ...  ...   ...   \n",
       "77     0     0     0     0     0     0     3     0     3     0  ...     3   \n",
       "78     0     0     0     0     0     0     3     0     2     0  ...     1   \n",
       "79     0     0     0     0     0     0     1     0     2     0  ...     2   \n",
       "80     0     0     0     0     0     0     1     0     3     0  ...     2   \n",
       "81     0     0     0     0     0     0     3     0     3     0  ...     3   \n",
       "\n",
       "    2039  2040  2041  2042  2043  2044  2045  2046  2047  \n",
       "3      0     0     0     0     0     0     0     0     0  \n",
       "4      0     0     0     0     0     0     0     0     0  \n",
       "5      0     0     0     0     0     0     0     0     0  \n",
       "6      0     0     0     0     0     0     0     0     0  \n",
       "7      0     0     0     0     0     0     0     0     0  \n",
       "..   ...   ...   ...   ...   ...   ...   ...   ...   ...  \n",
       "77     0     0     0     0     0     0     0     0     0  \n",
       "78     0     0     0     0     0     0     0     0     0  \n",
       "79     0     0     0     0     0     0     0     0     0  \n",
       "80     0     0     0     0     0     0     0     0     0  \n",
       "81     0     0     0     0     0     0     0     0     0  \n",
       "\n",
       "[79 rows x 2048 columns]"
      ]
     },
     "execution_count": 198,
     "metadata": {},
     "output_type": "execute_result"
    }
   ],
   "source": [
    "data_folder = Path(\"dataset/experiment-i/S1/\")\n",
    "\n",
    "file_name = data_folder / \"1.txt\"\n",
    "df = pd.read_csv(file_name, sep=\"\\t\", header=None)\n",
    "#la stessa posizione viene misurata 82 volte DC\n",
    "#la prima non conta un cazzo(è vuota), anche l'ultima colonna è 8vuota dc\n",
    "#dobbiamo fare la PCA tra le 82 misurazioni diverse boia\n",
    "#e poi cercare di tenere quella più carina dc\n",
    "df.drop(columns=[2048], inplace = True) #tolgo colonna\n",
    "df.drop(0, inplace = True) #tolgo riga\n",
    "df.drop(1, inplace = True) #tolgo riga\n",
    "df.drop(2, inplace = True) #tolgo riga\n",
    "\n",
    "df"
   ]
  },
  {
   "cell_type": "code",
   "execution_count": 199,
   "metadata": {
    "scrolled": false
   },
   "outputs": [
    {
     "name": "stdout",
     "output_type": "stream",
     "text": [
      "(79, 1)\n",
      "Trace of the original data matrix:  406009.65\n",
      "Trace of the data matrix after the changes of base:  406009.68 \n",
      "\n",
      "Fraction of the total variability keeping only the first principal component:  100.0 %\n",
      "Fraction of the total variability keeping only the first principal component:  100.0 %\n",
      "Fraction of the total variability keeping only the first principal component:  100.0 %\n",
      "Fraction of the total variability keeping only the first principal component:  100.0 %\n",
      "Fraction of the total variability keeping only the first principal component:  100.0 %\n",
      "Fraction of the total variability keeping only the first principal component:  100.0 %\n",
      "Fraction of the total variability keeping only the first principal component:  100.0 %\n",
      "Fraction of the total variability keeping only the first principal component:  100.0 %\n",
      "Fraction of the total variability keeping only the first principal component:  100.0 %\n",
      "Fraction of the total variability keeping only the first principal component:  100.0 %\n",
      "Fraction of the total variability keeping only the first principal component:  100.0 %\n",
      "Fraction of the total variability keeping only the first principal component:  100.0 %\n",
      "Fraction of the total variability keeping only the first principal component:  100.0 %\n",
      "Fraction of the total variability keeping only the first principal component:  100.0 %\n",
      "Fraction of the total variability keeping only the first principal component:  100.0 %\n",
      "Fraction of the total variability keeping only the first principal component:  100.0 %\n",
      "Fraction of the total variability keeping only the first principal component:  100.0 %\n",
      "Fraction of the total variability keeping only the first principal component:  100.0 %\n",
      "Fraction of the total variability keeping only the first principal component:  100.0 %\n",
      "Fraction of the total variability keeping only the first principal component:  100.0 %\n",
      "Fraction of the total variability keeping only the first principal component:  100.0 %\n",
      "Fraction of the total variability keeping only the first principal component:  100.0 %\n",
      "Fraction of the total variability keeping only the first principal component:  100.0 %\n",
      "Fraction of the total variability keeping only the first principal component:  100.0 %\n",
      "Fraction of the total variability keeping only the first principal component:  100.0 %\n",
      "Fraction of the total variability keeping only the first principal component:  100.0 %\n",
      "Fraction of the total variability keeping only the first principal component:  100.0 %\n",
      "Fraction of the total variability keeping only the first principal component:  100.0 %\n",
      "Fraction of the total variability keeping only the first principal component:  100.0 %\n",
      "Fraction of the total variability keeping only the first principal component:  100.0 %\n",
      "Fraction of the total variability keeping only the first principal component:  100.0 %\n",
      "Fraction of the total variability keeping only the first principal component:  100.0 %\n",
      "Fraction of the total variability keeping only the first principal component:  100.0 %\n",
      "Fraction of the total variability keeping only the first principal component:  100.0 %\n",
      "Fraction of the total variability keeping only the first principal component:  100.0 %\n",
      "Fraction of the total variability keeping only the first principal component:  100.0 %\n",
      "Fraction of the total variability keeping only the first principal component:  100.0 %\n",
      "Fraction of the total variability keeping only the first principal component:  100.0 %\n",
      "Fraction of the total variability keeping only the first principal component:  100.0 %\n",
      "Fraction of the total variability keeping only the first principal component:  100.0 %\n",
      "Fraction of the total variability keeping only the first principal component:  100.0 %\n",
      "Fraction of the total variability keeping only the first principal component:  100.0 %\n",
      "Fraction of the total variability keeping only the first principal component:  100.0 %\n",
      "Fraction of the total variability keeping only the first principal component:  100.0 %\n",
      "Fraction of the total variability keeping only the first principal component:  100.0 %\n",
      "Fraction of the total variability keeping only the first principal component:  100.0 %\n",
      "Fraction of the total variability keeping only the first principal component:  100.0 %\n",
      "Fraction of the total variability keeping only the first principal component:  100.0 %\n",
      "Fraction of the total variability keeping only the first principal component:  100.0 %\n",
      "Fraction of the total variability keeping only the first principal component:  100.0 %\n",
      "Fraction of the total variability keeping only the first principal component:  100.0 %\n",
      "Fraction of the total variability keeping only the first principal component:  100.0 %\n",
      "Fraction of the total variability keeping only the first principal component:  100.0 %\n",
      "Fraction of the total variability keeping only the first principal component:  100.0 %\n",
      "Fraction of the total variability keeping only the first principal component:  100.0 %\n",
      "Fraction of the total variability keeping only the first principal component:  100.0 %\n",
      "Fraction of the total variability keeping only the first principal component:  100.0 %\n",
      "Fraction of the total variability keeping only the first principal component:  100.0 %\n",
      "Fraction of the total variability keeping only the first principal component:  100.0 %\n",
      "Fraction of the total variability keeping only the first principal component:  100.0 %\n",
      "Fraction of the total variability keeping only the first principal component:  100.0 %\n",
      "Fraction of the total variability keeping only the first principal component:  100.0 %\n",
      "Fraction of the total variability keeping only the first principal component:  100.0 %\n",
      "Fraction of the total variability keeping only the first principal component:  100.0 %\n",
      "Fraction of the total variability keeping only the first principal component:  100.0 %\n",
      "Fraction of the total variability keeping only the first principal component:  100.0 %\n",
      "Fraction of the total variability keeping only the first principal component:  100.0 %\n",
      "Fraction of the total variability keeping only the first principal component:  100.0 %\n",
      "Fraction of the total variability keeping only the first principal component:  100.0 %\n",
      "Fraction of the total variability keeping only the first principal component:  100.0 %\n",
      "Fraction of the total variability keeping only the first principal component:  100.0 %\n",
      "Fraction of the total variability keeping only the first principal component:  100.0 %\n",
      "Fraction of the total variability keeping only the first principal component:  100.0 %\n",
      "Fraction of the total variability keeping only the first principal component:  100.0 %\n",
      "Fraction of the total variability keeping only the first principal component:  100.0 %\n",
      "Fraction of the total variability keeping only the first principal component:  100.0 %\n",
      "Fraction of the total variability keeping only the first principal component:  100.0 %\n",
      "Fraction of the total variability keeping only the first principal component:  100.0 %\n",
      "Fraction of the total variability keeping only the first principal component:  100.0 %\n",
      "(79, 5)\n"
     ]
    }
   ],
   "source": [
    "array = df.to_numpy()\n",
    "#avg = array.mean()\n",
    "avg = np.mean(array, axis = 1, keepdims=True)\n",
    "\n",
    "print(avg.shape)\n",
    "array = array - avg\n",
    "\n",
    "CX = np.cov(array)\n",
    "w,v = la.eig(CX) \n",
    "\n",
    "CY =  np.diag(np.round(np.real(w),2))\n",
    "print(\"Trace of the original data matrix: \" , np.round(CX.trace(),2))\n",
    "print(\"Trace of the data matrix after the changes of base: \", np.round(CY.trace(),2), \"\\n\")\n",
    "\n",
    "tr = 0;\n",
    "for i in range(0,len(CY)):\n",
    "    tr = tr + CY[i,i]\n",
    "    print(\"Fraction of the total variability keeping only the first principal component: \", np.round(100*tr/CY.trace()),\"%\")\n",
    "\n",
    "\n",
    "P = v[:,0:5]\n",
    "print(P.shape)\n",
    "P = abs(P)\n",
    "\n",
    "array_final = P.T.dot(array)"
   ]
  },
  {
   "cell_type": "code",
   "execution_count": 200,
   "metadata": {},
   "outputs": [],
   "source": [
    "array_final[0] = array_final[0]\n",
    "array_final[0][array_final[0] < 0] = 0\n",
    "array_final[0][array_final[0] > 3000] = 1000\n",
    "\n",
    "OldRange = array_final[0].max()  \n",
    "NewRange = 1000 \n",
    "for i in range(0,len(array_final[0])):\n",
    "    array_final[0][i] = (((array_final[0][i]) * NewRange) / OldRange) \n",
    "\n",
    "file = open(\"prova1.txt\", \"w\") \n",
    "\n",
    "for i in range(0,len(array_final[0])):\n",
    "    l = i + 1;\n",
    "    if(l%32 != 0):\n",
    "        file.write(str(int(array_final[0][i])) + \"\\t\") \n",
    "    else:\n",
    "        file.write(\"\\n\") \n",
    "        \n",
    "        \n",
    "file.close() "
   ]
  },
  {
   "cell_type": "code",
   "execution_count": 201,
   "metadata": {},
   "outputs": [
    {
     "data": {
      "text/plain": [
       "<matplotlib.axes._subplots.AxesSubplot at 0x7f2bd8b33c88>"
      ]
     },
     "execution_count": 201,
     "metadata": {},
     "output_type": "execute_result"
    },
    {
     "data": {
      "image/png": "[encoded data removed]",
      "text/plain": [
       "<Figure size 432x288 with 2 Axes>"
      ]
     },
     "metadata": {
      "needs_background": "light"
     },
     "output_type": "display_data"
    }
   ],
   "source": [
    "sas.heatmap(array_final[0].reshape(64,32))"
   ]
  },
  {
   "cell_type": "code",
   "execution_count": 202,
   "metadata": {},
   "outputs": [
    {
     "data": {
      "text/plain": [
       "<matplotlib.axes._subplots.AxesSubplot at 0x7f2bd8a28b70>"
      ]
     },
     "execution_count": 202,
     "metadata": {},
     "output_type": "execute_result"
    },
    {
     "data": {
      "image/png": "[encoded data removed]",
      "text/plain": [
       "<Figure size 432x288 with 2 Axes>"
      ]
     },
     "metadata": {
      "needs_background": "light"
     },
     "output_type": "display_data"
    }
   ],
   "source": [
    "from scipy.ndimage import gaussian_filter\n",
    "\n",
    "gauss = gaussian_filter(array_final[0], sigma=1.5)\n",
    "sas.heatmap(gauss.reshape(64,32))"
   ]
  },
  {
   "cell_type": "code",
   "execution_count": 177,
   "metadata": {},
   "outputs": [],
   "source": [
    "tmp = array_final[0]\n",
    "tmp = np.reshape(tmp,(64,32))\n",
    "\n",
    "X = []\n",
    "\n",
    "#build a vector for each point \n",
    "#every vector contains the coordinates and the intensity values of the shape of the body\n",
    "for i in range(0, tmp.shape[0]):\n",
    "    for j in range(0, tmp.shape[1]):\n",
    "        t = []\n",
    "        if tmp[i][j] == 0:\n",
    "            continue\n",
    "        else:\n",
    "            t.append(i)\n",
    "            t.append(j)\n",
    "            t.append(tmp[i][j])\n",
    "            X.append(t)\n",
    "\n",
    "X = np.array(X)\n"
   ]
  },
  {
   "cell_type": "code",
   "execution_count": 167,
   "metadata": {},
   "outputs": [],
   "source": [
    "import sklearn.preprocessing as pre\n",
    "from sklearn.cluster import KMeans as km\n",
    "from sklearn.preprocessing import StandardScaler\n",
    "\n",
    "\n",
    "scaler = StandardScaler()\n",
    "X_std = scaler.fit_transform(X)"
   ]
  },
  {
   "cell_type": "code",
   "execution_count": 168,
   "metadata": {},
   "outputs": [
    {
     "name": "stdout",
     "output_type": "stream",
     "text": [
      "[[ 0.06941527  0.9536356  -0.39764344]\n",
      " [ 0.1501512  -0.98764187 -0.40005078]\n",
      " [-0.47989508 -0.04813603  1.76194947]]\n",
      "[[  32.78230501   24.30500582 -176.49940965]\n",
      " [  34.27373613    6.3810111  -177.56793959]\n",
      " [  22.63492063   15.05555556  782.06505793]]\n"
     ]
    },
    {
     "name": "stderr",
     "output_type": "stream",
     "text": [
      "/home/giovanni/.local/lib/python3.6/site-packages/sklearn/cluster/k_means_.py:972: RuntimeWarning: Explicit initial center position passed: performing only one init in k-means instead of n_init=10\n",
      "  return_n_iter=True)\n"
     ]
    }
   ],
   "source": [
    "#center = [(6.5,15.5,500),(21.5,15.5,500),(38.,15.5,500),(55.,15.5,500)]\n",
    "center = [(6.5,15.5,500),(21.5,15.5,500),(55.,15.5,500)]\n",
    "center = np.array(center)\n",
    "#km = km(n_clusters=4).fit(X_std)\n",
    "km = km(n_clusters=3, init = center).fit(X_std)\n",
    "km.labels_\n",
    "\n",
    "y_km = km.predict(X_std)\n",
    "\n",
    "o = km.cluster_centers_\n",
    "print(o)\n",
    "o = scaler.inverse_transform(o)\n",
    "print(o)"
   ]
  },
  {
   "cell_type": "code",
   "execution_count": 169,
   "metadata": {},
   "outputs": [
    {
     "data": {
      "text/plain": [
       "<matplotlib.collections.PathCollection at 0x7f2bd996a748>"
      ]
     },
     "execution_count": 169,
     "metadata": {},
     "output_type": "execute_result"
    },
    {
     "data": {
      "image/png": "[encoded data removed]",
      "text/plain": [
       "<Figure size 432x288 with 2 Axes>"
      ]
     },
     "metadata": {
      "needs_background": "light"
     },
     "output_type": "display_data"
    }
   ],
   "source": [
    "sas.heatmap(array_final[0].reshape(64,32))\n",
    "plt.scatter(o[:,1], o[:,0], \n",
    "            marker='x', s=169, linewidths=3,\n",
    "            color='w', zorder=10)\n",
    "\n"
   ]
  },
  {
   "cell_type": "code",
   "execution_count": 170,
   "metadata": {},
   "outputs": [
    {
     "name": "stdout",
     "output_type": "stream",
     "text": [
      "[[   0.            0.         -267.98787895]\n",
      " [   0.            1.         -270.65796224]\n",
      " [   0.            2.         -275.92664535]\n",
      " [   0.            3.         -281.75112594]]\n"
     ]
    },
    {
     "data": {
      "image/png": "[encoded data removed]",
      "text/plain": [
       "<Figure size 432x288 with 2 Axes>"
      ]
     },
     "metadata": {
      "needs_background": "light"
     },
     "output_type": "display_data"
    }
   ],
   "source": [
    "lol = [3 for i in range(64*32)]\n",
    "\n",
    "for i in range(0,len(X)):\n",
    "    index = int(X[i][0]*32) + int(X[i][1])\n",
    "    lol[index] = km.labels_[i]\n",
    "\n",
    "lol = np.array(lol)\n",
    "sas.heatmap(lol.reshape(64,32))\n",
    "\n",
    "print(X[0:4])"
   ]
  },
  {
   "cell_type": "code",
   "execution_count": 44,
   "metadata": {},
   "outputs": [
    {
     "name": "stdout",
     "output_type": "stream",
     "text": [
      "[[ 6.5 15.5]\n",
      " [21.5 15.5]\n",
      " [38.  15.5]\n",
      " [55.  15.5]]\n"
     ]
    },
    {
     "name": "stderr",
     "output_type": "stream",
     "text": [
      "/home/giovanni/.local/lib/python3.6/site-packages/sklearn/cluster/k_means_.py:972: RuntimeWarning: Explicit initial center position passed: performing only one init in k-means instead of n_init=10\n",
      "  return_n_iter=True)\n"
     ]
    },
    {
     "data": {
      "text/plain": [
       "<matplotlib.collections.PathCollection at 0x7f5bc4e41fd0>"
      ]
     },
     "execution_count": 44,
     "metadata": {},
     "output_type": "execute_result"
    },
    {
     "data": {
      "image/png": "[encoded data removed]",
      "text/plain": [
       "<Figure size 432x288 with 2 Axes>"
      ]
     },
     "metadata": {
      "needs_background": "light"
     },
     "output_type": "display_data"
    }
   ],
   "source": [
    "import sklearn.preprocessing as pre\n",
    "from sklearn.cluster import KMeans as km\n",
    "from sklearn.preprocessing import StandardScaler\n",
    "\n",
    "tmp = array_final[0]\n",
    "tmp = np.reshape(tmp,(64,32))\n",
    "\n",
    "X = []\n",
    "\n",
    "#build a vector for each point \n",
    "#every vector contains the coordinates and the intensity values\n",
    "for i in range(0, tmp.shape[0]):\n",
    "    for j in range(0, tmp.shape[1]):\n",
    "        t = []\n",
    "        t.append(i)\n",
    "        t.append(j)\n",
    "        X.append(t)\n",
    "\n",
    "X = np.array(X)\n",
    "\n",
    "center = [(0,0),(16,0),(37,0),(64,0)]\n",
    "center = np.array(center)\n",
    "#km = km(n_clusters=4).fit(X)\n",
    "km = km(n_clusters=4, init = center).fit(X)\n",
    "km.labels_\n",
    "\n",
    "y_km = km.predict(X)\n",
    "\n",
    "o = km.cluster_centers_\n",
    "print(o)\n",
    "\n",
    "sas.heatmap(array_final[0].reshape(64,32))\n",
    "plt.scatter(o[:,1], o[:,0], \n",
    "            marker='x', s=169, linewidths=3,\n",
    "            color='w', zorder=10)\n"
   ]
  },
  {
   "cell_type": "code",
   "execution_count": null,
   "metadata": {},
   "outputs": [],
   "source": []
  }
 ],
 "metadata": {
  "kernelspec": {
   "display_name": "Python 3",
   "language": "python",
   "name": "python3"
  },
  "language_info": {
   "codemirror_mode": {
    "name": "ipython",
    "version": 3
   },
   "file_extension": ".py",
   "mimetype": "text/x-python",
   "name": "python",
   "nbconvert_exporter": "python",
   "pygments_lexer": "ipython3",
   "version": "3.6.9"
  }
 },
 "nbformat": 4,
 "nbformat_minor": 2
}
