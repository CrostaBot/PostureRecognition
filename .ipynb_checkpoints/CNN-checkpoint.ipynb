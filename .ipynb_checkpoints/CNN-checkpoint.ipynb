{
 "cells": [
  {
   "cell_type": "code",
   "execution_count": null,
   "metadata": {},
   "outputs": [],
   "source": [
    "import numpy as np\n",
    "import pandas as pd\n",
    "import matplotlib.pyplot as plt\n",
    "import tensorflow as tf\n",
    "from time import time\n",
    "from tensorflow.keras.callbacks import History\n",
    "from tensorflow.keras.utils import to_categorical\n",
    "from tensorflow.keras import datasets, layers, models\n",
    "from tensorflow.keras.models import Sequential, Model\n",
    "from tensorflow.keras.layers import Dense, Conv2D, Flatten, Dropout, MaxPooling2D, Input"
   ]
  },
  {
   "cell_type": "code",
   "execution_count": null,
   "metadata": {},
   "outputs": [],
   "source": [
    "# import dataset and shuffle data\n",
    "df = pd.read_csv('dataset.csv')\n",
    "df = df.sample(frac=1).reset_index(drop=True)\n",
    "df\n"
   ]
  },
  {
   "cell_type": "code",
   "execution_count": null,
   "metadata": {},
   "outputs": [],
   "source": [
    "# Split dataset in train, val and test\n",
    "num_col = len(df.columns)\n",
    "train_split = 2400\n",
    "test_split = 2600\n",
    "\n",
    "train_data = df.iloc[0:train_split, 0:num_col-2]\n",
    "val_data = df.iloc[train_split:test_split, 0:num_col-2]\n",
    "\n",
    "train_subject = df.iloc[0:train_split, num_col-2:num_col-1]\n",
    "train_position = df.iloc[0:train_split, num_col-1:num_col]\n",
    "val_subject = df.iloc[train_split:test_split, num_col-2:num_col-1]\n",
    "val_position = df.iloc[train_split:test_split, num_col-1:num_col]\n",
    "\n",
    "test_data = df.iloc[test_split:,:num_col-2]\n",
    "test_subject = df.iloc[test_split:, num_col-2:num_col-1]\n",
    "test_position = df.iloc[test_split:, num_col-1:num_col]\n",
    "\n",
    "test_data = np.array(test_data)\n",
    "test_subject = np.array(test_subject)\n",
    "test_position = np.array(test_position)\n",
    "test_data = test_data.reshape(len(test_data), 64,32, 1)\n",
    "test_data = test_data / 500\n",
    "test_subject = to_categorical(test_subject)\n",
    "test_position = to_categorical(test_position)\n",
    "\n",
    "print(test_subject.shape[1])\n",
    "\n",
    "while test_subject.shape[1] != 13:\n",
    "    df = df.sample(frac=1).reset_index(drop=True)\n",
    "    train_data = df.iloc[0:train_split, 0:num_col-2]\n",
    "    val_data = df.iloc[train_split:test_split, 0:num_col-2]\n",
    "\n",
    "    train_subject = df.iloc[0:train_split, num_col-2:num_col-1]\n",
    "    train_position = df.iloc[0:train_split, num_col-1:num_col]\n",
    "    val_subject = df.iloc[train_split:test_split, num_col-2:num_col-1]\n",
    "    val_position = df.iloc[train_split:test_split, num_col-1:num_col]\n",
    "\n",
    "    test_data = df.iloc[test_split:,:num_col-2]\n",
    "    test_subject = df.iloc[test_split:, num_col-2:num_col-1]\n",
    "    test_position = df.iloc[test_split:, num_col-1:num_col]\n",
    "\n",
    "    test_data = np.array(test_data)\n",
    "    test_subject = np.array(test_subject)\n",
    "    test_position = np.array(test_position)\n",
    "    test_data = test_data.reshape(len(test_data), 64,32, 1)\n",
    "    test_data = test_data / 500\n",
    "    test_subject = to_categorical(test_subject)\n",
    "    test_position = to_categorical(test_position)\n",
    "    \n",
    "    print(test_subject.shape[1])\n"
   ]
  },
  {
   "cell_type": "code",
   "execution_count": null,
   "metadata": {},
   "outputs": [],
   "source": [
    "# convert to numpy array\n",
    "train_data = np.array(train_data)\n",
    "val_data = np.array(val_data)\n",
    "\n",
    "train_subject = np.array(train_subject)\n",
    "train_position = np.array(train_position)\n",
    "val_subject = np.array(val_subject)\n",
    "val_position = np.array(val_position)\n",
    "\n",
    "train_data = train_data.reshape(len(train_data), 64,32, 1)\n",
    "val_data = val_data.reshape(len(val_data), 64,32, 1)\n",
    "\n",
    "print(train_data.shape)\n",
    "print(train_subject.shape)\n",
    "print(train_position.shape)\n",
    "print(val_data.shape)\n",
    "print(val_subject.shape)\n",
    "print(val_position.shape)\n"
   ]
  },
  {
   "cell_type": "code",
   "execution_count": null,
   "metadata": {},
   "outputs": [],
   "source": [
    "plt.figure(figsize=(10,5))\n",
    "i = 0\n",
    "\n",
    "for i in range(1, 6):\n",
    "    plt.subplot(1,5,i)\n",
    "    plt.xticks([])\n",
    "    plt.yticks([])\n",
    "    plt.grid(False)\n",
    "    \n",
    "    label = str(train_subject[i-1]) + ' - ' + str(train_position[i-1])\n",
    "    plt.imshow(train_data[i-1].reshape((64, 32)), cmap='gray')\n",
    "    plt.xlabel(label)\n",
    "    "
   ]
  },
  {
   "cell_type": "code",
   "execution_count": null,
   "metadata": {},
   "outputs": [],
   "source": [
    "# normalize data and build categorical labels\n",
    "train_data = train_data / 500\n",
    "val_data = val_data / 500\n",
    "\n",
    "train_subject = to_categorical(train_subject, 13)\n",
    "train_position = to_categorical(train_position, 3)\n",
    "val_subject = to_categorical(val_subject, 13)\n",
    "val_position = to_categorical(val_position, 3)\n"
   ]
  },
  {
   "cell_type": "code",
   "execution_count": null,
   "metadata": {},
   "outputs": [],
   "source": [
    "inp = Input((64, 32, 1),)\n",
    "\n",
    "x = Conv2D(32, (3, 3), activation='relu', padding='same', input_shape=(64, 32, 1))(inp)\n",
    "x = MaxPooling2D((2, 2))(x)\n",
    "x = Dropout(0.4)(x)\n",
    "    \n",
    "x = Conv2D(16, (3, 3), activation='relu', padding='valid')(x)\n",
    "x = MaxPooling2D((2, 2))(x)\n",
    "x = Dropout(0.4)(x)\n",
    "\n",
    "x = Flatten()(x)\n",
    "x = Dense(120, activation='relu')(x)\n",
    "x = Dense(84, activation='relu')(x)\n",
    "\n",
    "x = Dropout(0.4)(x)\n",
    "\n",
    "subject = Dense(13, activation='softmax')(x)\n",
    "position = Dense(3, activation='softmax')(x)\n",
    "\n",
    "model_subject = Model(inp, subject)\n",
    "model_position = Model(inp, position)"
   ]
  },
  {
   "cell_type": "code",
   "execution_count": null,
   "metadata": {},
   "outputs": [],
   "source": [
    "optimiser = tf.keras.optimizers.Adam(learning_rate=0.001)\n",
    "\n",
    "model_subject.compile(optimizer=optimiser, loss='categorical_crossentropy', metrics=['accuracy'])\n",
    "model_position.compile(optimizer=optimiser, loss='categorical_crossentropy', metrics=['accuracy'])\n",
    "\n",
    "model_subject.summary()\n",
    "model_position.summary()"
   ]
  },
  {
   "cell_type": "code",
   "execution_count": null,
   "metadata": {
    "scrolled": true
   },
   "outputs": [],
   "source": [
    "#train subject model\n",
    "history = History()\n",
    "\n",
    "train_subject = model_subject.fit(train_data, train_subject, validation_data = (val_data, val_subject), epochs=50, callbacks = [history])\n"
   ]
  },
  {
   "cell_type": "code",
   "execution_count": null,
   "metadata": {},
   "outputs": [],
   "source": [
    "plt.figure(figsize = (14,10))\n",
    "plt.plot(history.history['accuracy'],'black', linewidth = 3.0,  label = \"Training accuracy\")\n",
    "plt.plot(history.history['val_accuracy'],'black', ls = \"--\",linewidth = 3.0, label = \"Validation accuracy\")\n",
    "plt.legend(loc=\"upper left\")\n",
    "plt.title('Accuracy Curves')\n",
    "plt.xlabel('Epochs')\n",
    "plt.ylabel('Accuracy')\n"
   ]
  },
  {
   "cell_type": "code",
   "execution_count": null,
   "metadata": {},
   "outputs": [],
   "source": [
    "#train position model\n",
    "history = History()\n",
    "\n",
    "train_position = model_position.fit(train_data, train_position, validation_data = (val_data, val_position), epochs=10, callbacks = [history])\n"
   ]
  },
  {
   "cell_type": "code",
   "execution_count": null,
   "metadata": {},
   "outputs": [],
   "source": [
    "plt.figure(figsize = (14,10))\n",
    "plt.plot(history.history['accuracy'],'black', linewidth = 3.0,  label = \"Training accuracy\")\n",
    "plt.plot(history.history['val_accuracy'],'black', ls = \"--\",linewidth = 3.0, label = \"Validation accuracy\")\n",
    "plt.legend(loc=\"upper left\")\n",
    "plt.title('Accuracy Curves')\n",
    "plt.xlabel('Epochs')\n",
    "plt.ylabel('Accuracy')\n"
   ]
  },
  {
   "cell_type": "code",
   "execution_count": null,
   "metadata": {},
   "outputs": [],
   "source": [
    "model_subject.evaluate(test_data, test_subject)\n",
    "model_position.evaluate(test_data, test_position)\n"
   ]
  },
  {
   "cell_type": "code",
   "execution_count": null,
   "metadata": {},
   "outputs": [],
   "source": [
    "predictions_subject = model_subject.predict(test_data)\n",
    "predictions_position = model_position.predict(test_data)\n",
    "\n",
    "predictions_subject = predictions_subject.argmax(axis=-1)\n",
    "predictions_position = predictions_position.argmax(axis=-1)\n",
    "\n",
    "plt.figure(figsize=(20,10))\n",
    "\n",
    "for i in range(1, 11):\n",
    "    plt.subplot(2,5,i)\n",
    "    plt.xticks([])\n",
    "    plt.yticks([])\n",
    "    plt.grid(False)\n",
    "    \n",
    "    label = str(predictions_subject[i-1]) + ' - ' + str(predictions_position[i-1])\n",
    "    plt.imshow(test_data[i].reshape(64, 32), cmap='gray')\n",
    "    plt.xlabel(label)\n",
    "\n",
    "test_labels = df.iloc[test_split:, num_col-2:num_col]\n",
    "test_labels.head(10)\n"
   ]
  },
  {
   "cell_type": "code",
   "execution_count": null,
   "metadata": {},
   "outputs": [],
   "source": []
  }
 ],
 "metadata": {
  "kernelspec": {
   "display_name": "Python 3",
   "language": "python",
   "name": "python3"
  },
  "language_info": {
   "codemirror_mode": {
    "name": "ipython",
    "version": 3
   },
   "file_extension": ".py",
   "mimetype": "text/x-python",
   "name": "python",
   "nbconvert_exporter": "python",
   "pygments_lexer": "ipython3",
   "version": "3.7.6"
  }
 },
 "nbformat": 4,
 "nbformat_minor": 4
}
